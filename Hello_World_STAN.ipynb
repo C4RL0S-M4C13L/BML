{
 "cells": [
  {
   "cell_type": "code",
   "execution_count": 1,
   "id": "63681a67-6044-4924-9fa6-bc4e8cf30318",
   "metadata": {},
   "outputs": [],
   "source": [
    "import stan\n",
    "import pandas as pd\n",
    "import numpy as np\n",
    "import scipy.stats as stats \n",
    "import matplotlib.pyplot as plt\n",
    "# this is a work around needed to run pystan in some machines\n",
    "import nest_asyncio\n",
    "nest_asyncio.apply()"
   ]
  },
  {
   "cell_type": "markdown",
   "id": "7a0bbe39-55aa-4b73-bb30-eb1af657fc1c",
   "metadata": {},
   "source": [
    "### Create fake data"
   ]
  },
  {
   "cell_type": "code",
   "execution_count": 37,
   "id": "3aa3141f-a44c-4a8d-8639-c6369498616f",
   "metadata": {},
   "outputs": [],
   "source": [
    "mu = 5\n",
    "sigma = 3\n",
    "np.random.seed(0)\n",
    "data = np.random.normal(mu,sigma,200)"
   ]
  },
  {
   "cell_type": "markdown",
   "id": "9eba5b59-0f53-477a-a1a9-bc7f94a24514",
   "metadata": {},
   "source": [
    "### STAN model"
   ]
  },
  {
   "cell_type": "code",
   "execution_count": 38,
   "id": "a279b7f2-4e12-4397-9eac-c0eb546229dc",
   "metadata": {},
   "outputs": [],
   "source": [
    "my_model = \"\"\"\n",
    "data {\n",
    " int <lower=0> N; // length of data\n",
    " vector[N] measurements; // data\n",
    "}\n",
    "\n",
    "parameters {\n",
    "  real mu;\n",
    "  real<lower=0> sigma;\n",
    "}\n",
    "\n",
    "model {\n",
    "  mu ~ normal(0,10);   // define prior for mu (not needed, but prior info is always good)\n",
    "  sigma ~ cauchy(0,1);  // define prior for sigma (idem)\n",
    "  for (n in 1:N) {\n",
    "  measurements[n] ~ normal(mu, sigma);  \n",
    "}\n",
    "}\n",
    "\"\"\""
   ]
  },
  {
   "cell_type": "markdown",
   "id": "72536a18-123a-4b31-bf9d-b71d062656f9",
   "metadata": {},
   "source": [
    "### Infer"
   ]
  },
  {
   "cell_type": "code",
   "execution_count": 39,
   "id": "d8759980-67fe-4301-8b37-985171337053",
   "metadata": {},
   "outputs": [],
   "source": [
    "my_data = {'N': len(data), 'measurements': data }"
   ]
  },
  {
   "cell_type": "code",
   "execution_count": 40,
   "id": "a5f21473-2e9e-46ae-ad3a-455467e14cd0",
   "metadata": {},
   "outputs": [
    {
     "name": "stderr",
     "output_type": "stream",
     "text": [
      "\u001b[32mBuilding:\u001b[0m found in cache, done.\n"
     ]
    }
   ],
   "source": [
    "model = stan.build(my_model, data=my_data, random_seed=10);"
   ]
  },
  {
   "cell_type": "code",
   "execution_count": 41,
   "id": "1eab59df-aaf7-495a-9030-d62abe160367",
   "metadata": {},
   "outputs": [
    {
     "name": "stderr",
     "output_type": "stream",
     "text": [
      "\u001b[36mSampling:\u001b[0m   0%\n",
      "\u001b[1A\u001b[0J\u001b[36mSampling:\u001b[0m  25% (2000/8000)\n",
      "\u001b[1A\u001b[0J\u001b[36mSampling:\u001b[0m  50% (4000/8000)\n",
      "\u001b[1A\u001b[0J\u001b[36mSampling:\u001b[0m  75% (6000/8000)\n",
      "\u001b[1A\u001b[0J\u001b[36mSampling:\u001b[0m 100% (8000/8000)\n",
      "\u001b[1A\u001b[0J\u001b[32mSampling:\u001b[0m 100% (8000/8000), done.\n",
      "\u001b[36mMessages received during sampling:\u001b[0m\n",
      "  Gradient evaluation took 7.1e-05 seconds\n",
      "  1000 transitions using 10 leapfrog steps per transition would take 0.71 seconds.\n",
      "  Adjust your expectations accordingly!\n",
      "  Gradient evaluation took 2.4e-05 seconds\n",
      "  1000 transitions using 10 leapfrog steps per transition would take 0.24 seconds.\n",
      "  Adjust your expectations accordingly!\n",
      "  Gradient evaluation took 7.2e-05 seconds\n",
      "  1000 transitions using 10 leapfrog steps per transition would take 0.72 seconds.\n",
      "  Adjust your expectations accordingly!\n",
      "  Gradient evaluation took 1.6e-05 seconds\n",
      "  1000 transitions using 10 leapfrog steps per transition would take 0.16 seconds.\n",
      "  Adjust your expectations accordingly!\n"
     ]
    }
   ],
   "source": [
    "fit = model.sample(num_chains=4, num_samples=1000)"
   ]
  },
  {
   "cell_type": "markdown",
   "id": "7eb1fc0a-3c2e-4c05-a948-a039679859f8",
   "metadata": {},
   "source": [
    "### Assessment"
   ]
  },
  {
   "cell_type": "code",
   "execution_count": 42,
   "id": "1acc12eb-633d-43fe-b48e-5496e74375a6",
   "metadata": {},
   "outputs": [
    {
     "data": {
      "text/html": [
       "<div>\n",
       "<style scoped>\n",
       "    .dataframe tbody tr th:only-of-type {\n",
       "        vertical-align: middle;\n",
       "    }\n",
       "\n",
       "    .dataframe tbody tr th {\n",
       "        vertical-align: top;\n",
       "    }\n",
       "\n",
       "    .dataframe thead th {\n",
       "        text-align: right;\n",
       "    }\n",
       "</style>\n",
       "<table border=\"1\" class=\"dataframe\">\n",
       "  <thead>\n",
       "    <tr style=\"text-align: right;\">\n",
       "      <th>parameters</th>\n",
       "      <th>lp__</th>\n",
       "      <th>accept_stat__</th>\n",
       "      <th>stepsize__</th>\n",
       "      <th>treedepth__</th>\n",
       "      <th>n_leapfrog__</th>\n",
       "      <th>divergent__</th>\n",
       "      <th>energy__</th>\n",
       "      <th>mu</th>\n",
       "      <th>sigma</th>\n",
       "    </tr>\n",
       "    <tr>\n",
       "      <th>draws</th>\n",
       "      <th></th>\n",
       "      <th></th>\n",
       "      <th></th>\n",
       "      <th></th>\n",
       "      <th></th>\n",
       "      <th></th>\n",
       "      <th></th>\n",
       "      <th></th>\n",
       "      <th></th>\n",
       "    </tr>\n",
       "  </thead>\n",
       "  <tbody>\n",
       "    <tr>\n",
       "      <th>0</th>\n",
       "      <td>-325.637334</td>\n",
       "      <td>0.862713</td>\n",
       "      <td>0.810680</td>\n",
       "      <td>1.0</td>\n",
       "      <td>3.0</td>\n",
       "      <td>0.0</td>\n",
       "      <td>327.454687</td>\n",
       "      <td>5.308812</td>\n",
       "      <td>2.962025</td>\n",
       "    </tr>\n",
       "    <tr>\n",
       "      <th>1</th>\n",
       "      <td>-325.400525</td>\n",
       "      <td>0.983008</td>\n",
       "      <td>0.865229</td>\n",
       "      <td>1.0</td>\n",
       "      <td>3.0</td>\n",
       "      <td>0.0</td>\n",
       "      <td>326.415081</td>\n",
       "      <td>5.246533</td>\n",
       "      <td>3.115726</td>\n",
       "    </tr>\n",
       "    <tr>\n",
       "      <th>2</th>\n",
       "      <td>-326.946710</td>\n",
       "      <td>0.919872</td>\n",
       "      <td>0.820448</td>\n",
       "      <td>3.0</td>\n",
       "      <td>7.0</td>\n",
       "      <td>0.0</td>\n",
       "      <td>330.651773</td>\n",
       "      <td>5.078527</td>\n",
       "      <td>2.818869</td>\n",
       "    </tr>\n",
       "    <tr>\n",
       "      <th>3</th>\n",
       "      <td>-325.681164</td>\n",
       "      <td>1.000000</td>\n",
       "      <td>0.961095</td>\n",
       "      <td>2.0</td>\n",
       "      <td>3.0</td>\n",
       "      <td>0.0</td>\n",
       "      <td>325.746244</td>\n",
       "      <td>5.037253</td>\n",
       "      <td>3.018539</td>\n",
       "    </tr>\n",
       "    <tr>\n",
       "      <th>4</th>\n",
       "      <td>-325.558798</td>\n",
       "      <td>0.997388</td>\n",
       "      <td>0.810680</td>\n",
       "      <td>2.0</td>\n",
       "      <td>3.0</td>\n",
       "      <td>0.0</td>\n",
       "      <td>325.815861</td>\n",
       "      <td>5.186868</td>\n",
       "      <td>3.165885</td>\n",
       "    </tr>\n",
       "    <tr>\n",
       "      <th>...</th>\n",
       "      <td>...</td>\n",
       "      <td>...</td>\n",
       "      <td>...</td>\n",
       "      <td>...</td>\n",
       "      <td>...</td>\n",
       "      <td>...</td>\n",
       "      <td>...</td>\n",
       "      <td>...</td>\n",
       "      <td>...</td>\n",
       "    </tr>\n",
       "    <tr>\n",
       "      <th>3995</th>\n",
       "      <td>-327.249999</td>\n",
       "      <td>1.000000</td>\n",
       "      <td>0.961095</td>\n",
       "      <td>2.0</td>\n",
       "      <td>7.0</td>\n",
       "      <td>0.0</td>\n",
       "      <td>328.630983</td>\n",
       "      <td>4.896449</td>\n",
       "      <td>3.290092</td>\n",
       "    </tr>\n",
       "    <tr>\n",
       "      <th>3996</th>\n",
       "      <td>-326.969203</td>\n",
       "      <td>0.792725</td>\n",
       "      <td>0.810680</td>\n",
       "      <td>3.0</td>\n",
       "      <td>7.0</td>\n",
       "      <td>0.0</td>\n",
       "      <td>329.242315</td>\n",
       "      <td>5.339431</td>\n",
       "      <td>2.816257</td>\n",
       "    </tr>\n",
       "    <tr>\n",
       "      <th>3997</th>\n",
       "      <td>-326.301699</td>\n",
       "      <td>0.996904</td>\n",
       "      <td>0.865229</td>\n",
       "      <td>2.0</td>\n",
       "      <td>3.0</td>\n",
       "      <td>0.0</td>\n",
       "      <td>326.575919</td>\n",
       "      <td>5.494617</td>\n",
       "      <td>2.996659</td>\n",
       "    </tr>\n",
       "    <tr>\n",
       "      <th>3998</th>\n",
       "      <td>-325.454293</td>\n",
       "      <td>0.959753</td>\n",
       "      <td>0.820448</td>\n",
       "      <td>2.0</td>\n",
       "      <td>3.0</td>\n",
       "      <td>0.0</td>\n",
       "      <td>326.239550</td>\n",
       "      <td>5.318788</td>\n",
       "      <td>3.037761</td>\n",
       "    </tr>\n",
       "    <tr>\n",
       "      <th>3999</th>\n",
       "      <td>-325.744984</td>\n",
       "      <td>0.980585</td>\n",
       "      <td>0.961095</td>\n",
       "      <td>2.0</td>\n",
       "      <td>3.0</td>\n",
       "      <td>0.0</td>\n",
       "      <td>327.604266</td>\n",
       "      <td>5.315523</td>\n",
       "      <td>3.183803</td>\n",
       "    </tr>\n",
       "  </tbody>\n",
       "</table>\n",
       "<p>4000 rows × 9 columns</p>\n",
       "</div>"
      ],
      "text/plain": [
       "parameters        lp__  accept_stat__  stepsize__  treedepth__  n_leapfrog__  \\\n",
       "draws                                                                          \n",
       "0          -325.637334       0.862713    0.810680          1.0           3.0   \n",
       "1          -325.400525       0.983008    0.865229          1.0           3.0   \n",
       "2          -326.946710       0.919872    0.820448          3.0           7.0   \n",
       "3          -325.681164       1.000000    0.961095          2.0           3.0   \n",
       "4          -325.558798       0.997388    0.810680          2.0           3.0   \n",
       "...                ...            ...         ...          ...           ...   \n",
       "3995       -327.249999       1.000000    0.961095          2.0           7.0   \n",
       "3996       -326.969203       0.792725    0.810680          3.0           7.0   \n",
       "3997       -326.301699       0.996904    0.865229          2.0           3.0   \n",
       "3998       -325.454293       0.959753    0.820448          2.0           3.0   \n",
       "3999       -325.744984       0.980585    0.961095          2.0           3.0   \n",
       "\n",
       "parameters  divergent__    energy__        mu     sigma  \n",
       "draws                                                    \n",
       "0                   0.0  327.454687  5.308812  2.962025  \n",
       "1                   0.0  326.415081  5.246533  3.115726  \n",
       "2                   0.0  330.651773  5.078527  2.818869  \n",
       "3                   0.0  325.746244  5.037253  3.018539  \n",
       "4                   0.0  325.815861  5.186868  3.165885  \n",
       "...                 ...         ...       ...       ...  \n",
       "3995                0.0  328.630983  4.896449  3.290092  \n",
       "3996                0.0  329.242315  5.339431  2.816257  \n",
       "3997                0.0  326.575919  5.494617  2.996659  \n",
       "3998                0.0  326.239550  5.318788  3.037761  \n",
       "3999                0.0  327.604266  5.315523  3.183803  \n",
       "\n",
       "[4000 rows x 9 columns]"
      ]
     },
     "execution_count": 42,
     "metadata": {},
     "output_type": "execute_result"
    }
   ],
   "source": [
    "df = fit.to_frame() \n",
    "df"
   ]
  },
  {
   "cell_type": "code",
   "execution_count": 43,
   "id": "1c4d92b2-9426-43e9-a7d0-73fd8683d676",
   "metadata": {},
   "outputs": [
    {
     "data": {
      "image/png": "[encoded data removed]",
      "text/plain": [
       "<Figure size 640x480 with 1 Axes>"
      ]
     },
     "metadata": {},
     "output_type": "display_data"
    }
   ],
   "source": [
    "plt.hist(df['mu'], color='blue',  histtype='step', density=1, label='$\\mu$ posterior')\n",
    "plt.hist(df['sigma'], color='red', histtype='step', density=1, label='$\\sigma$ posterior')\n",
    "plt.axvline(mu, color='blue', linestyle='dashed', label='$\\mu$ true')\n",
    "plt.axvline(sigma, color='red', linestyle='dashed', label='$\\sigma$ true')\n",
    "plt.ylabel('Probability density')\n",
    "plt.legend()\n",
    "plt.show()"
   ]
  },
  {
   "cell_type": "code",
   "execution_count": null,
   "id": "f3edb6f7-7603-4ba7-9af8-98883bbbf8fd",
   "metadata": {},
   "outputs": [],
   "source": []
  }
 ],
 "metadata": {
  "kernelspec": {
   "display_name": "Python 3 (ipykernel)",
   "language": "python",
   "name": "python3"
  },
  "language_info": {
   "codemirror_mode": {
    "name": "ipython",
    "version": 3
   },
   "file_extension": ".py",
   "mimetype": "text/x-python",
   "name": "python",
   "nbconvert_exporter": "python",
   "pygments_lexer": "ipython3",
   "version": "3.10.14"
  }
 },
 "nbformat": 4,
 "nbformat_minor": 5
}
