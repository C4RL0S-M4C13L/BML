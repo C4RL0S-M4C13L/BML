{
 "cells": [
  {
   "cell_type": "code",
   "execution_count": 1,
   "id": "63681a67-6044-4924-9fa6-bc4e8cf30318",
   "metadata": {},
   "outputs": [],
   "source": [
    "import stan\n",
    "import pandas as pd\n",
    "import numpy as np\n",
    "import scipy.stats as stats \n",
    "import matplotlib.pyplot as plt\n",
    "# this is a work around needed to run pystan in some machines\n",
    "import nest_asyncio\n",
    "nest_asyncio.apply()"
   ]
  },
  {
   "cell_type": "markdown",
   "id": "7a0bbe39-55aa-4b73-bb30-eb1af657fc1c",
   "metadata": {},
   "source": [
    "### Create fake data"
   ]
  },
  {
   "cell_type": "code",
   "execution_count": 2,
   "id": "3aa3141f-a44c-4a8d-8639-c6369498616f",
   "metadata": {},
   "outputs": [],
   "source": [
    "mu = 5\n",
    "sigma = 3\n",
    "data = np.random.normal(mu,sigma,200)"
   ]
  },
  {
   "cell_type": "markdown",
   "id": "9eba5b59-0f53-477a-a1a9-bc7f94a24514",
   "metadata": {},
   "source": [
    "### STAN model"
   ]
  },
  {
   "cell_type": "code",
   "execution_count": 19,
   "id": "a279b7f2-4e12-4397-9eac-c0eb546229dc",
   "metadata": {},
   "outputs": [],
   "source": [
    "my_model = \"\"\"\n",
    "data {\n",
    " int <lower=0> N; // length of data\n",
    " vector[N] measurements; // data\n",
    "}\n",
    "\n",
    "parameters {\n",
    "  real mu;\n",
    "  real<lower=0> sigma;\n",
    "}\n",
    "\n",
    "model {\n",
    "  mu ~ normal(0,10);   // define prior for mu (not needed, but prior info is always good)\n",
    "  sigma ~ cauchy(0,1);  // define prior for sigma (idem)\n",
    "  for (n in 1:N) {\n",
    "  measurements[n] ~ normal(mu, sigma);  \n",
    "}\n",
    "}\n",
    "\"\"\""
   ]
  },
  {
   "cell_type": "markdown",
   "id": "72536a18-123a-4b31-bf9d-b71d062656f9",
   "metadata": {},
   "source": [
    "### Infer"
   ]
  },
  {
   "cell_type": "code",
   "execution_count": 20,
   "id": "d8759980-67fe-4301-8b37-985171337053",
   "metadata": {},
   "outputs": [],
   "source": [
    "my_data = {'N': len(data), 'measurements': data }"
   ]
  },
  {
   "cell_type": "code",
   "execution_count": 22,
   "id": "a5f21473-2e9e-46ae-ad3a-455467e14cd0",
   "metadata": {},
   "outputs": [
    {
     "name": "stderr",
     "output_type": "stream",
     "text": [
      "\u001b[32mBuilding:\u001b[0m found in cache, done.\n"
     ]
    }
   ],
   "source": [
    "model = stan.build(my_model, data=my_data, random_seed=10);"
   ]
  },
  {
   "cell_type": "code",
   "execution_count": 24,
   "id": "1eab59df-aaf7-495a-9030-d62abe160367",
   "metadata": {},
   "outputs": [
    {
     "name": "stderr",
     "output_type": "stream",
     "text": [
      "\u001b[36mSampling:\u001b[0m   0%\n",
      "\u001b[1A\u001b[0J\u001b[36mSampling:\u001b[0m  25% (2000/8000)\n",
      "\u001b[1A\u001b[0J\u001b[36mSampling:\u001b[0m  50% (4000/8000)\n",
      "\u001b[1A\u001b[0J\u001b[36mSampling:\u001b[0m  75% (6000/8000)\n",
      "\u001b[1A\u001b[0J\u001b[36mSampling:\u001b[0m 100% (8000/8000)\n",
      "\u001b[1A\u001b[0J\u001b[32mSampling:\u001b[0m 100% (8000/8000), done.\n",
      "\u001b[36mMessages received during sampling:\u001b[0m\n",
      "  Gradient evaluation took 2.2e-05 seconds\n",
      "  1000 transitions using 10 leapfrog steps per transition would take 0.22 seconds.\n",
      "  Adjust your expectations accordingly!\n",
      "  Gradient evaluation took 1.9e-05 seconds\n",
      "  1000 transitions using 10 leapfrog steps per transition would take 0.19 seconds.\n",
      "  Adjust your expectations accordingly!\n",
      "  Gradient evaluation took 7.5e-05 seconds\n",
      "  1000 transitions using 10 leapfrog steps per transition would take 0.75 seconds.\n",
      "  Adjust your expectations accordingly!\n",
      "  Gradient evaluation took 1.6e-05 seconds\n",
      "  1000 transitions using 10 leapfrog steps per transition would take 0.16 seconds.\n",
      "  Adjust your expectations accordingly!\n"
     ]
    }
   ],
   "source": [
    "fit = model.sample(num_chains=4, num_samples=1000)"
   ]
  },
  {
   "cell_type": "markdown",
   "id": "7eb1fc0a-3c2e-4c05-a948-a039679859f8",
   "metadata": {},
   "source": [
    "### Assessment"
   ]
  },
  {
   "cell_type": "code",
   "execution_count": 25,
   "id": "1acc12eb-633d-43fe-b48e-5496e74375a6",
   "metadata": {},
   "outputs": [
    {
     "data": {
      "text/html": [
       "<div>\n",
       "<style scoped>\n",
       "    .dataframe tbody tr th:only-of-type {\n",
       "        vertical-align: middle;\n",
       "    }\n",
       "\n",
       "    .dataframe tbody tr th {\n",
       "        vertical-align: top;\n",
       "    }\n",
       "\n",
       "    .dataframe thead th {\n",
       "        text-align: right;\n",
       "    }\n",
       "</style>\n",
       "<table border=\"1\" class=\"dataframe\">\n",
       "  <thead>\n",
       "    <tr style=\"text-align: right;\">\n",
       "      <th>parameters</th>\n",
       "      <th>lp__</th>\n",
       "      <th>accept_stat__</th>\n",
       "      <th>stepsize__</th>\n",
       "      <th>treedepth__</th>\n",
       "      <th>n_leapfrog__</th>\n",
       "      <th>divergent__</th>\n",
       "      <th>energy__</th>\n",
       "      <th>mu</th>\n",
       "      <th>sigma</th>\n",
       "    </tr>\n",
       "    <tr>\n",
       "      <th>draws</th>\n",
       "      <th></th>\n",
       "      <th></th>\n",
       "      <th></th>\n",
       "      <th></th>\n",
       "      <th></th>\n",
       "      <th></th>\n",
       "      <th></th>\n",
       "      <th></th>\n",
       "      <th></th>\n",
       "    </tr>\n",
       "  </thead>\n",
       "  <tbody>\n",
       "    <tr>\n",
       "      <th>0</th>\n",
       "      <td>-324.488552</td>\n",
       "      <td>0.910119</td>\n",
       "      <td>0.817499</td>\n",
       "      <td>2.0</td>\n",
       "      <td>3.0</td>\n",
       "      <td>0.0</td>\n",
       "      <td>325.622454</td>\n",
       "      <td>4.855750</td>\n",
       "      <td>3.163369</td>\n",
       "    </tr>\n",
       "    <tr>\n",
       "      <th>1</th>\n",
       "      <td>-324.706038</td>\n",
       "      <td>0.942919</td>\n",
       "      <td>0.756790</td>\n",
       "      <td>2.0</td>\n",
       "      <td>3.0</td>\n",
       "      <td>0.0</td>\n",
       "      <td>324.863346</td>\n",
       "      <td>4.599769</td>\n",
       "      <td>2.911865</td>\n",
       "    </tr>\n",
       "    <tr>\n",
       "      <th>2</th>\n",
       "      <td>-325.343660</td>\n",
       "      <td>0.949026</td>\n",
       "      <td>1.017233</td>\n",
       "      <td>2.0</td>\n",
       "      <td>3.0</td>\n",
       "      <td>0.0</td>\n",
       "      <td>326.444319</td>\n",
       "      <td>4.409478</td>\n",
       "      <td>3.015902</td>\n",
       "    </tr>\n",
       "    <tr>\n",
       "      <th>3</th>\n",
       "      <td>-324.390218</td>\n",
       "      <td>0.911002</td>\n",
       "      <td>0.913189</td>\n",
       "      <td>1.0</td>\n",
       "      <td>3.0</td>\n",
       "      <td>0.0</td>\n",
       "      <td>324.730417</td>\n",
       "      <td>4.592477</td>\n",
       "      <td>2.990534</td>\n",
       "    </tr>\n",
       "    <tr>\n",
       "      <th>4</th>\n",
       "      <td>-324.832275</td>\n",
       "      <td>0.968351</td>\n",
       "      <td>0.817499</td>\n",
       "      <td>2.0</td>\n",
       "      <td>3.0</td>\n",
       "      <td>0.0</td>\n",
       "      <td>325.023231</td>\n",
       "      <td>4.527994</td>\n",
       "      <td>2.944798</td>\n",
       "    </tr>\n",
       "    <tr>\n",
       "      <th>...</th>\n",
       "      <td>...</td>\n",
       "      <td>...</td>\n",
       "      <td>...</td>\n",
       "      <td>...</td>\n",
       "      <td>...</td>\n",
       "      <td>...</td>\n",
       "      <td>...</td>\n",
       "      <td>...</td>\n",
       "      <td>...</td>\n",
       "    </tr>\n",
       "    <tr>\n",
       "      <th>3995</th>\n",
       "      <td>-327.090222</td>\n",
       "      <td>0.453662</td>\n",
       "      <td>0.913189</td>\n",
       "      <td>1.0</td>\n",
       "      <td>3.0</td>\n",
       "      <td>0.0</td>\n",
       "      <td>330.888710</td>\n",
       "      <td>5.230497</td>\n",
       "      <td>3.244970</td>\n",
       "    </tr>\n",
       "    <tr>\n",
       "      <th>3996</th>\n",
       "      <td>-325.847652</td>\n",
       "      <td>0.911489</td>\n",
       "      <td>0.817499</td>\n",
       "      <td>2.0</td>\n",
       "      <td>3.0</td>\n",
       "      <td>0.0</td>\n",
       "      <td>325.881950</td>\n",
       "      <td>4.371056</td>\n",
       "      <td>2.958194</td>\n",
       "    </tr>\n",
       "    <tr>\n",
       "      <th>3997</th>\n",
       "      <td>-326.173209</td>\n",
       "      <td>0.929404</td>\n",
       "      <td>0.756790</td>\n",
       "      <td>2.0</td>\n",
       "      <td>3.0</td>\n",
       "      <td>0.0</td>\n",
       "      <td>327.036750</td>\n",
       "      <td>5.004890</td>\n",
       "      <td>2.811581</td>\n",
       "    </tr>\n",
       "    <tr>\n",
       "      <th>3998</th>\n",
       "      <td>-324.642226</td>\n",
       "      <td>0.963149</td>\n",
       "      <td>1.017233</td>\n",
       "      <td>2.0</td>\n",
       "      <td>3.0</td>\n",
       "      <td>0.0</td>\n",
       "      <td>325.239569</td>\n",
       "      <td>4.933400</td>\n",
       "      <td>3.146832</td>\n",
       "    </tr>\n",
       "    <tr>\n",
       "      <th>3999</th>\n",
       "      <td>-327.346447</td>\n",
       "      <td>0.978954</td>\n",
       "      <td>0.913189</td>\n",
       "      <td>2.0</td>\n",
       "      <td>7.0</td>\n",
       "      <td>0.0</td>\n",
       "      <td>327.429404</td>\n",
       "      <td>4.274961</td>\n",
       "      <td>2.883627</td>\n",
       "    </tr>\n",
       "  </tbody>\n",
       "</table>\n",
       "<p>4000 rows × 9 columns</p>\n",
       "</div>"
      ],
      "text/plain": [
       "parameters        lp__  accept_stat__  stepsize__  treedepth__  n_leapfrog__  \\\n",
       "draws                                                                          \n",
       "0          -324.488552       0.910119    0.817499          2.0           3.0   \n",
       "1          -324.706038       0.942919    0.756790          2.0           3.0   \n",
       "2          -325.343660       0.949026    1.017233          2.0           3.0   \n",
       "3          -324.390218       0.911002    0.913189          1.0           3.0   \n",
       "4          -324.832275       0.968351    0.817499          2.0           3.0   \n",
       "...                ...            ...         ...          ...           ...   \n",
       "3995       -327.090222       0.453662    0.913189          1.0           3.0   \n",
       "3996       -325.847652       0.911489    0.817499          2.0           3.0   \n",
       "3997       -326.173209       0.929404    0.756790          2.0           3.0   \n",
       "3998       -324.642226       0.963149    1.017233          2.0           3.0   \n",
       "3999       -327.346447       0.978954    0.913189          2.0           7.0   \n",
       "\n",
       "parameters  divergent__    energy__        mu     sigma  \n",
       "draws                                                    \n",
       "0                   0.0  325.622454  4.855750  3.163369  \n",
       "1                   0.0  324.863346  4.599769  2.911865  \n",
       "2                   0.0  326.444319  4.409478  3.015902  \n",
       "3                   0.0  324.730417  4.592477  2.990534  \n",
       "4                   0.0  325.023231  4.527994  2.944798  \n",
       "...                 ...         ...       ...       ...  \n",
       "3995                0.0  330.888710  5.230497  3.244970  \n",
       "3996                0.0  325.881950  4.371056  2.958194  \n",
       "3997                0.0  327.036750  5.004890  2.811581  \n",
       "3998                0.0  325.239569  4.933400  3.146832  \n",
       "3999                0.0  327.429404  4.274961  2.883627  \n",
       "\n",
       "[4000 rows x 9 columns]"
      ]
     },
     "execution_count": 25,
     "metadata": {},
     "output_type": "execute_result"
    }
   ],
   "source": [
    "df = fit.to_frame() \n",
    "df"
   ]
  },
  {
   "cell_type": "code",
   "execution_count": 36,
   "id": "1c4d92b2-9426-43e9-a7d0-73fd8683d676",
   "metadata": {},
   "outputs": [
    {
     "data": {
      "image/png": "[encoded data removed]",
      "text/plain": [
       "<Figure size 640x480 with 1 Axes>"
      ]
     },
     "metadata": {},
     "output_type": "display_data"
    }
   ],
   "source": [
    "plt.hist(df['mu'], color='blue',  histtype='step', density=1, label='$\\mu$ posterior')\n",
    "plt.hist(df['sigma'], color='red', histtype='step', density=1, label='$\\sigma$ posterior')\n",
    "plt.axvline(mu, color='blue', linestyle='dashed', label='$\\mu$ true')\n",
    "plt.axvline(sigma, color='red', linestyle='dashed', label='$\\sigma$ true')\n",
    "plt.ylabel('Probability density')\n",
    "plt.legend()\n",
    "plt.show()"
   ]
  },
  {
   "cell_type": "code",
   "execution_count": null,
   "id": "f3edb6f7-7603-4ba7-9af8-98883bbbf8fd",
   "metadata": {},
   "outputs": [],
   "source": []
  }
 ],
 "metadata": {
  "kernelspec": {
   "display_name": "Python 3 (ipykernel)",
   "language": "python",
   "name": "python3"
  },
  "language_info": {
   "codemirror_mode": {
    "name": "ipython",
    "version": 3
   },
   "file_extension": ".py",
   "mimetype": "text/x-python",
   "name": "python",
   "nbconvert_exporter": "python",
   "pygments_lexer": "ipython3",
   "version": "3.10.14"
  }
 },
 "nbformat": 4,
 "nbformat_minor": 5
}
